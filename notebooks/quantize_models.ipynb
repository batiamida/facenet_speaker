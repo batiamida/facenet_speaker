{
 "cells": [
  {
   "cell_type": "code",
   "execution_count": 22,
   "metadata": {
    "scrolled": true
   },
   "outputs": [],
   "source": [
    "from torch.utils.data import DataLoader\n",
    "from facenet_pytorch import MTCNN, InceptionResnetV1\n",
    "import torch\n",
    "import numpy as np\n",
    "import onnx\n",
    "from PIL import Image\n",
    "import PIL\n",
    "import torchvision\n"
   ]
  },
  {
   "cell_type": "code",
   "execution_count": 23,
   "metadata": {},
   "outputs": [],
   "source": [
    "\n",
    "\n",
    "def show_model_size(model):\n",
    "    param_size = 0\n",
    "    for param in model.parameters():\n",
    "        param_size += param.nelement() * param.element_size()\n",
    "    buffer_size = 0\n",
    "    for buffer in model.buffers():\n",
    "        buffer_size += buffer.nelement() * buffer.element_size()\n",
    "\n",
    "    size_all_mb = (param_size + buffer_size) / 1024**2\n",
    "    print('model size: {:.3f}MB'.format(size_all_mb))"
   ]
  },
  {
   "cell_type": "code",
   "execution_count": 123,
   "metadata": {},
   "outputs": [],
   "source": [
    "mtcnn = MTCNN(image_size=160, margin=0, min_face_size=20,\n",
    "    thresholds=[0.6, 0.7, 0.7], factor=0.709, post_process=True,)\n",
    "\n",
    "emb_model = InceptionResnetV1(pretrained=\"vggface2\").eval()"
   ]
  },
  {
   "cell_type": "code",
   "execution_count": 124,
   "metadata": {},
   "outputs": [
    {
     "data": {
      "text/plain": [
       "(160, 160)"
      ]
     },
     "execution_count": 124,
     "metadata": {},
     "output_type": "execute_result"
    }
   ],
   "source": [
    "img.size"
   ]
  },
  {
   "cell_type": "code",
   "execution_count": 125,
   "metadata": {},
   "outputs": [],
   "source": [
    "img_path = ...\n",
    "img = Image.open(img_path)\n",
    "cropped = mtcnn(img)"
   ]
  },
  {
   "cell_type": "code",
   "execution_count": 126,
   "metadata": {},
   "outputs": [
    {
     "data": {
      "text/plain": [
       "torch.Size([3, 160, 160])"
      ]
     },
     "execution_count": 126,
     "metadata": {},
     "output_type": "execute_result"
    }
   ],
   "source": [
    "cropped.shape\n",
    "# np.array(img).shape"
   ]
  },
  {
   "cell_type": "code",
   "execution_count": 127,
   "metadata": {},
   "outputs": [
    {
     "name": "stdout",
     "output_type": "stream",
     "text": [
      "model size: 1.892MB\n",
      "model size: 106.583MB\n"
     ]
    }
   ],
   "source": [
    "show_model_size(mtcnn)\n",
    "show_model_size(emb_model)"
   ]
  },
  {
   "cell_type": "code",
   "execution_count": 175,
   "metadata": {},
   "outputs": [],
   "source": [
    "import os\n",
    "import numpy as np\n",
    "import collections\n",
    "import glob\n",
    "import torchvision.transforms as transforms\n",
    "\n",
    "class VGG_Faces2_Triplet(torch.utils.data.Dataset):\n",
    "    mean_bgr = np.array([91.4953, 103.8827, 131.0912])  # from resnet50_ft.prototxt\n",
    "    fallback_transform = transforms.Compose([\n",
    "        transforms.Resize((160, 160)),  # match MTCNN output size\n",
    "        transforms.ToTensor(),\n",
    "        transforms.Normalize(mean=VGG_Faces2_Triplet.mean_bgr[::-1] / 255.0, std=[1.0, 1.0, 1.0])\n",
    "    ])\n",
    "    \n",
    "    def __init__(self, root, transform=True, horizontal_flip=False, upper=None):\n",
    "        assert os.path.exists(root), f\"root: {root} not found.\"\n",
    "        self.root = root\n",
    "        self._transform = transform\n",
    "        self.horizontal_flip = horizontal_flip\n",
    "\n",
    "        self.class_to_images = collections.defaultdict(list)\n",
    "        self.img_info = []\n",
    "\n",
    "        for i, img_file in enumerate(glob.glob(os.path.join(root, \"*/*.jpg\"))):\n",
    "            class_id = img_file.split(\"\\\\\")[-2]  # or split(\"/\")[-2] on Linux\n",
    "            label = class_id\n",
    "\n",
    "            info = {'cid': class_id, 'img': img_file, 'lbl': label}\n",
    "            self.img_info.append(info)\n",
    "            self.class_to_images[class_id].append(info)\n",
    "\n",
    "            if i % 1000 == 0:\n",
    "                print(f\"processing: {i} images\")\n",
    "            if upper and i == upper - 1:\n",
    "                break\n",
    "\n",
    "        # List of all class IDs\n",
    "        self.class_ids = list(self.class_to_images.keys())\n",
    "\n",
    "    def __len__(self):\n",
    "        return len(self.img_info)\n",
    "\n",
    "    def __getitem__(self, index):\n",
    "        anchor_info = self.img_info[index]\n",
    "        anchor_class = anchor_info['cid']\n",
    "\n",
    "        # Sample positive\n",
    "        positives = self.class_to_images[anchor_class]\n",
    "        positive_info = anchor_info\n",
    "        while positive_info == anchor_info and len(positives) > 1:\n",
    "            positive_info = np.random.choice(positives)\n",
    "\n",
    "        # Sample negative from different class\n",
    "        negative_class = anchor_class\n",
    "        while negative_class == anchor_class:\n",
    "            negative_class = np.random.choice(self.class_ids)\n",
    "        negative_info = np.random.choice(self.class_to_images[negative_class])\n",
    "\n",
    "        # Load and transform images\n",
    "        anchor_img = self._load_image(anchor_info['img'])\n",
    "        positive_img = self._load_image(positive_info['img'])\n",
    "        negative_img = self._load_image(negative_info['img'])\n",
    "\n",
    "        return anchor_img, positive_img, negative_img\n",
    "\n",
    "    def _load_image(self, img_path):\n",
    "        img = PIL.Image.open(img_path)\n",
    "        img_crop = mtcnn(img)\n",
    "        if img_crop is not None:\n",
    "            return img_crop\n",
    "        return self.fallback_transform(img)"
   ]
  },
  {
   "cell_type": "code",
   "execution_count": 176,
   "metadata": {},
   "outputs": [
    {
     "name": "stdout",
     "output_type": "stream",
     "text": [
      "processing: 0 images\n"
     ]
    }
   ],
   "source": [
    "root = ...\n",
    "ds = VGG_Faces2_Triplet(root=root)\n",
    "# glob.glob(os.path.join(root, \"*/*.jpg\"))"
   ]
  },
  {
   "cell_type": "code",
   "execution_count": 177,
   "metadata": {},
   "outputs": [],
   "source": [
    "ds_loader = DataLoader(ds, batch_size=128)"
   ]
  },
  {
   "cell_type": "code",
   "execution_count": 178,
   "metadata": {},
   "outputs": [],
   "source": [
    "triplet_loss_fn = torch.nn.TripletMarginLoss(margin=1.0, p=2)\n"
   ]
  },
  {
   "cell_type": "code",
   "execution_count": 179,
   "metadata": {
    "scrolled": true
   },
   "outputs": [
    {
     "name": "stderr",
     "output_type": "stream",
     "text": [
      "100%|██████████████████████████████████████████████████████████████████████████████████████████████████████████████████████████| 5/5 [01:48<00:00, 21.63s/it]"
     ]
    },
    {
     "name": "stdout",
     "output_type": "stream",
     "text": [
      "0.38907732367515563\n"
     ]
    },
    {
     "name": "stderr",
     "output_type": "stream",
     "text": [
      "\n"
     ]
    }
   ],
   "source": [
    "from tqdm import tqdm\n",
    "\n",
    "total_loss = 0\n",
    "with torch.no_grad():\n",
    "    for data in tqdm(ds_loader):\n",
    "        acnhor = emb_model(data[0])\n",
    "        pos = emb_model(data[1])\n",
    "        neg = emb_model(data[2])\n",
    "        loss = triplet_loss_fn(acnhor, pos, neg)\n",
    "        total_loss += loss.item()\n",
    "print(total_loss/len(ds_loader))"
   ]
  },
  {
   "cell_type": "code",
   "execution_count": 180,
   "metadata": {},
   "outputs": [
    {
     "name": "stdout",
     "output_type": "stream",
     "text": [
      "0.38907732367515563\n"
     ]
    }
   ],
   "source": [
    "print(total_loss/len(ds_loader))"
   ]
  },
  {
   "cell_type": "code",
   "execution_count": 188,
   "metadata": {},
   "outputs": [],
   "source": [
    "ds_loader = DataLoader(ds, batch_size=128)"
   ]
  },
  {
   "cell_type": "code",
   "execution_count": 189,
   "metadata": {},
   "outputs": [],
   "source": [
    "torch.onnx.export(\n",
    "    emb_model,              \n",
    "    (next(iter(ds_loader))[0],),\n",
    "    \"resnet50_vggface2.onnx\",\n",
    "    input_names=[\"input\"],\n",
    "    output_names=[\"output\"],\n",
    "    opset_version=11\n",
    ")"
   ]
  },
  {
   "cell_type": "code",
   "execution_count": 190,
   "metadata": {},
   "outputs": [],
   "source": [
    "onnx_model = onnx.load(\"resnet50_vggface2.onnx\")\n",
    "onnx.checker.check_model(onnx_model)"
   ]
  },
  {
   "cell_type": "code",
   "execution_count": 191,
   "metadata": {},
   "outputs": [
    {
     "name": "stdout",
     "output_type": "stream",
     "text": [
      "ONNX model size: 89.57 MB\n"
     ]
    }
   ],
   "source": [
    "\n",
    "model_path = \"resnet50_vggface2.onnx\"\n",
    "size_bytes = os.path.getsize(model_path)\n",
    "size_mb = size_bytes / (1024 * 1024)\n",
    "\n",
    "print(f\"ONNX model size: {size_mb:.2f} MB\")"
   ]
  },
  {
   "cell_type": "code",
   "execution_count": 202,
   "metadata": {},
   "outputs": [],
   "source": [
    "import onnxruntime as ort\n",
    "providers = [\"CPUExecutionProvider\"]\n",
    "ort_sess = ort.InferenceSession('resnet50_vggface2.onnx', providers=providers)"
   ]
  },
  {
   "cell_type": "code",
   "execution_count": 195,
   "metadata": {},
   "outputs": [],
   "source": [
    "test_data = next(iter(ds_loader))[0].numpy()"
   ]
  },
  {
   "cell_type": "code",
   "execution_count": 205,
   "metadata": {},
   "outputs": [
    {
     "data": {
      "text/plain": [
       "1.1868040561676025"
      ]
     },
     "execution_count": 205,
     "metadata": {},
     "output_type": "execute_result"
    }
   ],
   "source": [
    "import time\n",
    "start = time.time()\n",
    "results = ort_sess.run([\"output\"], {\"input\": test_data})\n",
    "time.time() - start"
   ]
  },
  {
   "cell_type": "code",
   "execution_count": 197,
   "metadata": {},
   "outputs": [],
   "source": [
    "from onnxruntime.quantization import quantize_dynamic, QuantType\n",
    "import onnxruntime as ort\n",
    "\n",
    "base_model = \"resnet50_vggface2.onnx\"\n",
    "quant_model = \"resnet50_vggface2_quantized16.onnx\"\n",
    "quantize_dynamic(base_model, quant_model, weight_type=QuantType.QUInt8)"
   ]
  },
  {
   "cell_type": "code",
   "execution_count": 198,
   "metadata": {},
   "outputs": [
    {
     "name": "stdout",
     "output_type": "stream",
     "text": [
      "ONNX model size: 22.66 MB\n"
     ]
    }
   ],
   "source": [
    "\n",
    "model_path = \"resnet50_vggface2_quantized16.onnx\"\n",
    "size_bytes = os.path.getsize(model_path)\n",
    "size_mb = size_bytes / (1024 * 1024)\n",
    "\n",
    "print(f\"ONNX model size: {size_mb:.2f} MB\")"
   ]
  },
  {
   "cell_type": "code",
   "execution_count": 206,
   "metadata": {},
   "outputs": [],
   "source": [
    "providers = [\"CPUExecutionProvider\"]\n",
    "ort_sess = ort.InferenceSession('resnet50_vggface2_quantized16.onnx', providers=providers)\n"
   ]
  },
  {
   "cell_type": "code",
   "execution_count": 207,
   "metadata": {},
   "outputs": [
    {
     "data": {
      "text/plain": [
       "2.510838031768799"
      ]
     },
     "execution_count": 207,
     "metadata": {},
     "output_type": "execute_result"
    }
   ],
   "source": [
    "start = time.time()\n",
    "results = ort_sess.run([\"output\"], {'input': test_data})\n",
    "# olrder cpu? not optimized for quantized models?\n",
    "time.time() - start"
   ]
  },
  {
   "cell_type": "code",
   "execution_count": 208,
   "metadata": {
    "scrolled": true
   },
   "outputs": [
    {
     "name": "stderr",
     "output_type": "stream",
     "text": [
      "  0%|                                                                                                                                  | 0/5 [00:00<?, ?it/s]c:\\users\\gram\\appdata\\local\\programs\\python\\python37\\lib\\site-packages\\torch\\nn\\functional.py:780: UserWarning: Note that order of the arguments: ceil_mode and return_indices will changeto match the args list in nn.MaxPool2d in a future release.\n",
      "  warnings.warn(\"Note that order of the arguments: ceil_mode and return_indices will change\"\n",
      " 80%|█████████████████████████████████████████████████████████████████████████████████████████████████▌                        | 4/5 [01:14<00:18, 18.58s/it]\n"
     ]
    },
    {
     "ename": "InvalidArgument",
     "evalue": "[ONNXRuntimeError] : 2 : INVALID_ARGUMENT : Got invalid dimensions for input: input for the following indices\n index: 0 Got: 88 Expected: 128\n Please fix either the inputs or the model.",
     "output_type": "error",
     "traceback": [
      "\u001B[1;31m---------------------------------------------------------------------------\u001B[0m",
      "\u001B[1;31mInvalidArgument\u001B[0m                           Traceback (most recent call last)",
      "\u001B[1;32m~\\AppData\\Local\\Temp\\ipykernel_18888\\1950686160.py\u001B[0m in \u001B[0;36m<module>\u001B[1;34m\u001B[0m\n\u001B[0;32m      4\u001B[0m \u001B[1;32mwith\u001B[0m \u001B[0mtorch\u001B[0m\u001B[1;33m.\u001B[0m\u001B[0mno_grad\u001B[0m\u001B[1;33m(\u001B[0m\u001B[1;33m)\u001B[0m\u001B[1;33m:\u001B[0m\u001B[1;33m\u001B[0m\u001B[1;33m\u001B[0m\u001B[0m\n\u001B[0;32m      5\u001B[0m     \u001B[1;32mfor\u001B[0m \u001B[0mdata\u001B[0m \u001B[1;32min\u001B[0m \u001B[0mtqdm\u001B[0m\u001B[1;33m(\u001B[0m\u001B[0mds_loader\u001B[0m\u001B[1;33m)\u001B[0m\u001B[1;33m:\u001B[0m\u001B[1;33m\u001B[0m\u001B[1;33m\u001B[0m\u001B[0m\n\u001B[1;32m----> 6\u001B[1;33m         \u001B[0macnhor\u001B[0m \u001B[1;33m=\u001B[0m \u001B[0mort_sess\u001B[0m\u001B[1;33m.\u001B[0m\u001B[0mrun\u001B[0m\u001B[1;33m(\u001B[0m\u001B[1;33m[\u001B[0m\u001B[1;34m\"output\"\u001B[0m\u001B[1;33m]\u001B[0m\u001B[1;33m,\u001B[0m \u001B[1;33m{\u001B[0m\u001B[1;34m'input'\u001B[0m\u001B[1;33m:\u001B[0m \u001B[0mdata\u001B[0m\u001B[1;33m[\u001B[0m\u001B[1;36m0\u001B[0m\u001B[1;33m]\u001B[0m\u001B[1;33m.\u001B[0m\u001B[0mnumpy\u001B[0m\u001B[1;33m(\u001B[0m\u001B[1;33m)\u001B[0m\u001B[1;33m}\u001B[0m\u001B[1;33m)\u001B[0m\u001B[1;33m[\u001B[0m\u001B[1;36m0\u001B[0m\u001B[1;33m]\u001B[0m\u001B[1;33m\u001B[0m\u001B[1;33m\u001B[0m\u001B[0m\n\u001B[0m\u001B[0;32m      7\u001B[0m         \u001B[0mpos\u001B[0m \u001B[1;33m=\u001B[0m \u001B[0mort_sess\u001B[0m\u001B[1;33m.\u001B[0m\u001B[0mrun\u001B[0m\u001B[1;33m(\u001B[0m\u001B[1;33m[\u001B[0m\u001B[1;34m\"output\"\u001B[0m\u001B[1;33m]\u001B[0m\u001B[1;33m,\u001B[0m \u001B[1;33m{\u001B[0m\u001B[1;34m'input'\u001B[0m\u001B[1;33m:\u001B[0m \u001B[0mdata\u001B[0m\u001B[1;33m[\u001B[0m\u001B[1;36m1\u001B[0m\u001B[1;33m]\u001B[0m\u001B[1;33m.\u001B[0m\u001B[0mnumpy\u001B[0m\u001B[1;33m(\u001B[0m\u001B[1;33m)\u001B[0m\u001B[1;33m}\u001B[0m\u001B[1;33m)\u001B[0m\u001B[1;33m[\u001B[0m\u001B[1;36m0\u001B[0m\u001B[1;33m]\u001B[0m\u001B[1;33m\u001B[0m\u001B[1;33m\u001B[0m\u001B[0m\n\u001B[0;32m      8\u001B[0m         \u001B[0mneg\u001B[0m \u001B[1;33m=\u001B[0m \u001B[0mort_sess\u001B[0m\u001B[1;33m.\u001B[0m\u001B[0mrun\u001B[0m\u001B[1;33m(\u001B[0m\u001B[1;33m[\u001B[0m\u001B[1;34m\"output\"\u001B[0m\u001B[1;33m]\u001B[0m\u001B[1;33m,\u001B[0m \u001B[1;33m{\u001B[0m\u001B[1;34m'input'\u001B[0m\u001B[1;33m:\u001B[0m \u001B[0mdata\u001B[0m\u001B[1;33m[\u001B[0m\u001B[1;36m2\u001B[0m\u001B[1;33m]\u001B[0m\u001B[1;33m.\u001B[0m\u001B[0mnumpy\u001B[0m\u001B[1;33m(\u001B[0m\u001B[1;33m)\u001B[0m\u001B[1;33m}\u001B[0m\u001B[1;33m)\u001B[0m\u001B[1;33m[\u001B[0m\u001B[1;36m0\u001B[0m\u001B[1;33m]\u001B[0m\u001B[1;33m\u001B[0m\u001B[1;33m\u001B[0m\u001B[0m\n",
      "\u001B[1;32mc:\\users\\gram\\appdata\\local\\programs\\python\\python37\\lib\\site-packages\\onnxruntime\\capi\\onnxruntime_inference_collection.py\u001B[0m in \u001B[0;36mrun\u001B[1;34m(self, output_names, input_feed, run_options)\u001B[0m\n\u001B[0;32m    198\u001B[0m             \u001B[0moutput_names\u001B[0m \u001B[1;33m=\u001B[0m \u001B[1;33m[\u001B[0m\u001B[0moutput\u001B[0m\u001B[1;33m.\u001B[0m\u001B[0mname\u001B[0m \u001B[1;32mfor\u001B[0m \u001B[0moutput\u001B[0m \u001B[1;32min\u001B[0m \u001B[0mself\u001B[0m\u001B[1;33m.\u001B[0m\u001B[0m_outputs_meta\u001B[0m\u001B[1;33m]\u001B[0m\u001B[1;33m\u001B[0m\u001B[1;33m\u001B[0m\u001B[0m\n\u001B[0;32m    199\u001B[0m         \u001B[1;32mtry\u001B[0m\u001B[1;33m:\u001B[0m\u001B[1;33m\u001B[0m\u001B[1;33m\u001B[0m\u001B[0m\n\u001B[1;32m--> 200\u001B[1;33m             \u001B[1;32mreturn\u001B[0m \u001B[0mself\u001B[0m\u001B[1;33m.\u001B[0m\u001B[0m_sess\u001B[0m\u001B[1;33m.\u001B[0m\u001B[0mrun\u001B[0m\u001B[1;33m(\u001B[0m\u001B[0moutput_names\u001B[0m\u001B[1;33m,\u001B[0m \u001B[0minput_feed\u001B[0m\u001B[1;33m,\u001B[0m \u001B[0mrun_options\u001B[0m\u001B[1;33m)\u001B[0m\u001B[1;33m\u001B[0m\u001B[1;33m\u001B[0m\u001B[0m\n\u001B[0m\u001B[0;32m    201\u001B[0m         \u001B[1;32mexcept\u001B[0m \u001B[0mC\u001B[0m\u001B[1;33m.\u001B[0m\u001B[0mEPFail\u001B[0m \u001B[1;32mas\u001B[0m \u001B[0merr\u001B[0m\u001B[1;33m:\u001B[0m\u001B[1;33m\u001B[0m\u001B[1;33m\u001B[0m\u001B[0m\n\u001B[0;32m    202\u001B[0m             \u001B[1;32mif\u001B[0m \u001B[0mself\u001B[0m\u001B[1;33m.\u001B[0m\u001B[0m_enable_fallback\u001B[0m\u001B[1;33m:\u001B[0m\u001B[1;33m\u001B[0m\u001B[1;33m\u001B[0m\u001B[0m\n",
      "\u001B[1;31mInvalidArgument\u001B[0m: [ONNXRuntimeError] : 2 : INVALID_ARGUMENT : Got invalid dimensions for input: input for the following indices\n index: 0 Got: 88 Expected: 128\n Please fix either the inputs or the model."
     ]
    }
   ],
   "source": [
    "from tqdm import tqdm\n",
    "\n",
    "total_loss = 0\n",
    "with torch.no_grad():\n",
    "    for data in tqdm(ds_loader):\n",
    "        acnhor = ort_sess.run([\"output\"], {'input': data[0].numpy()})[0]\n",
    "        pos = ort_sess.run([\"output\"], {'input': data[1].numpy()})[0]\n",
    "        neg = ort_sess.run([\"output\"], {'input': data[2].numpy()})[0]\n",
    "        loss = triplet_loss_fn(torch.Tensor(acnhor), torch.Tensor(pos), torch.Tensor(neg))\n",
    "        total_loss += loss.item()\n",
    "print(total_loss/len(ds_loader))"
   ]
  },
  {
   "cell_type": "code",
   "execution_count": 209,
   "metadata": {},
   "outputs": [
    {
     "name": "stdout",
     "output_type": "stream",
     "text": [
      "0.40563803166151047\n"
     ]
    }
   ],
   "source": [
    "# last iteration didn't work since the dimusion for the last batch changed\n",
    "# smaller loss probably due to last batch that wasn't being loaded\n",
    "print(total_loss/4)\n"
   ]
  },
  {
   "cell_type": "code",
   "execution_count": 211,
   "metadata": {},
   "outputs": [],
   "source": [
    "data = next(iter(ds_loader))[0]"
   ]
  },
  {
   "cell_type": "code",
   "execution_count": 213,
   "metadata": {},
   "outputs": [
    {
     "data": {
      "text/plain": [
       "6.712839603424072"
      ]
     },
     "execution_count": 213,
     "metadata": {},
     "output_type": "execute_result"
    }
   ],
   "source": [
    "start = time.time()\n",
    "emb_model(data)\n",
    "time.time() - start"
   ]
  },
  {
   "cell_type": "code",
   "execution_count": 214,
   "metadata": {},
   "outputs": [
    {
     "data": {
      "text/plain": [
       "2.600456953048706"
      ]
     },
     "execution_count": 214,
     "metadata": {},
     "output_type": "execute_result"
    }
   ],
   "source": [
    "import time\n",
    "\n",
    "start = time.time()\n",
    "ort_sess.run([\"output\"], {'input': test_data})[0]\n",
    "time.time() - start"
   ]
  },
  {
   "cell_type": "code",
   "execution_count": null,
   "metadata": {},
   "outputs": [],
   "source": []
  }
 ],
 "metadata": {
  "kernelspec": {
   "display_name": "Python 3 (ipykernel)",
   "language": "python",
   "name": "python3"
  },
  "language_info": {
   "codemirror_mode": {
    "name": "ipython",
    "version": 3
   },
   "file_extension": ".py",
   "mimetype": "text/x-python",
   "name": "python",
   "nbconvert_exporter": "python",
   "pygments_lexer": "ipython3",
   "version": "3.7.9"
  }
 },
 "nbformat": 4,
 "nbformat_minor": 1
}